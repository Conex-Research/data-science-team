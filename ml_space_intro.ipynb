{
  "cells": [
    {
      "cell_type": "markdown",
      "metadata": {
        "id": "42_DTY0rlsoB"
      },
      "source": [
        "# ✭ ✮ ✩ ✫ ✩ ✩ ✫ ✩ ✫ ✩ ✩ ✫ ✩ ✫ ✩ ✫ ✩ ✩ ✫ ✫ ✩ ✫ ✩ ✩ ✫ ✫ ✩ ✫ ✩ ✩ ✫ \n",
        "# Welcome to the Conex Data Analysis and Machine Learning Tutorial\n",
        "# ✭ ✮ ✩ ✫ ✩  ✩ ✫ ✩ ✫ ✩ ✩ ✫ ✩ ✫ ✩ ✫ ✩ ✩ ✫ ✫ ✩ ✫ ✩ ✩ ✫ ✫ ✩ ✫ ✩ ✩ ✫\n",
        "\n",
        "Photometric LSST Astronomical Time-Series Classification Challenge (PLAsTiCC)\n",
        "\n",
        "1.   we need data (upload training_set.csv to the files in colab https://www.kaggle.com/competitions/PLAsTiCC-2018 - I already sent the download link on whatsapp so you don't have to log in) - we only use one of the csv files due to memory\n",
        "2.   we need to import scikit learn, pandas, ...\n",
        "2.   we need to read the data\n",
        "2.   we need to understand our data\n",
        "3.   we need to choose a classifier\n",
        "4.   we need to train and predict\n",
        "5.   we need a metric\n",
        "6.   we need to visualise our results\n",
        "\n",
        "\n",
        "\n",
        "\n"
      ]
    },
    {
      "cell_type": "markdown",
      "metadata": {
        "id": "Hgx-fDW9nlW1"
      },
      "source": [
        "## ✭ Task: import libraries\n",
        "Import libraries here (you have to pip install them if you work locally, google colab alread has a wide range of libraries preinstalled)\n",
        "\n",
        "Libraries we initially want:\n",
        "* https://scikit-learn.org/stable/getting_started.html\n",
        "* https://pandas.pydata.org/docs/getting_started/intro_tutorials/01_table_oriented.html\n",
        "\n",
        "Import types:\n",
        "* import x  (import library)\n",
        "* import x as y (imports library with another name)\n",
        "* from x import y (imports something specific function)\n",
        "* from x import * (imports all functions from library)"
      ]
    },
    {
      "cell_type": "code",
      "execution_count": null,
      "metadata": {
        "colab": {
          "background_save": true
        },
        "id": "l0tu1dQ2nkWz"
      },
      "outputs": [],
      "source": [
        "# your code here\n",
        "\n",
        "from sklearn.ensemble import RandomForestClassifier\n",
        "import pandas as pd"
      ]
    },
    {
      "cell_type": "markdown",
      "metadata": {
        "id": "tisMi7Fcnblc"
      },
      "source": [
        "## ✭ Task: read csv file with pandas \n",
        "(scroll down): https://realpython.com/python-csv/"
      ]
    },
    {
      "cell_type": "code",
      "execution_count": null,
      "metadata": {
        "colab": {
          "base_uri": "https://localhost:8080/",
          "height": 222
        },
        "id": "05nR36CbiOcP",
        "outputId": "d8d46aa0-ed2c-4354-977d-7cc9e5580c5b"
      },
      "outputs": [
        {
          "ename": "NameError",
          "evalue": "ignored",
          "output_type": "error",
          "traceback": [
            "\u001b[0;31m---------------------------------------------------------------------------\u001b[0m",
            "\u001b[0;31mNameError\u001b[0m                                 Traceback (most recent call last)",
            "\u001b[0;32m<ipython-input-1-8bfd8dd4eb56>\u001b[0m in \u001b[0;36m<module>\u001b[0;34m\u001b[0m\n\u001b[1;32m      1\u001b[0m \u001b[0;31m# your code here\u001b[0m\u001b[0;34m\u001b[0m\u001b[0;34m\u001b[0m\u001b[0;34m\u001b[0m\u001b[0m\n\u001b[1;32m      2\u001b[0m \u001b[0;34m\u001b[0m\u001b[0m\n\u001b[0;32m----> 3\u001b[0;31m \u001b[0mdf\u001b[0m \u001b[0;34m=\u001b[0m \u001b[0mpd\u001b[0m\u001b[0;34m.\u001b[0m\u001b[0mread_csv\u001b[0m\u001b[0;34m(\u001b[0m\u001b[0;34m'hrdata.csv'\u001b[0m\u001b[0;34m)\u001b[0m\u001b[0;34m\u001b[0m\u001b[0;34m\u001b[0m\u001b[0m\n\u001b[0m\u001b[1;32m      4\u001b[0m \u001b[0mprint\u001b[0m\u001b[0;34m(\u001b[0m\u001b[0mdf\u001b[0m\u001b[0;34m)\u001b[0m\u001b[0;34m\u001b[0m\u001b[0;34m\u001b[0m\u001b[0m\n",
            "\u001b[0;31mNameError\u001b[0m: name 'pd' is not defined"
          ]
        }
      ],
      "source": [
        "# your code here\n",
        "\n",
        "df = pd.read_csv('training.csv')\n",
        "print(df)"
      ]
    },
    {
      "cell_type": "markdown",
      "metadata": {
        "id": "plJZNhKeo-I_"
      },
      "source": [
        "## ✭ Task: understand your data with \"exploratory data analysis\"\n",
        "* Which one is our label?\n",
        "* What values can our label have?\n",
        "* Do we have outliers in features?\n",
        "* Are there nan (not a number) values?\n",
        "* Are all our features numeric (integer, float)?\n",
        "\n",
        "https://www.kaggle.com/kashnitsky/topic-1-exploratory-data-analysis-with-pandas"
      ]
    },
    {
      "cell_type": "code",
      "execution_count": null,
      "metadata": {
        "id": "SEO7KcYgo-ZN"
      },
      "outputs": [],
      "source": [
        "# your code here"
      ]
    },
    {
      "cell_type": "markdown",
      "metadata": {
        "id": "W2tllqfLpQK3"
      },
      "source": [
        "## ✭ Task: prepare your data for training\n",
        "\n",
        "* training features (x)\n",
        "* training labels   (y)\n",
        "* validation features (x)\n",
        "* validation labels   (y)\n",
        "\n",
        "https://datascience.stackexchange.com/questions/15135/train-test-validation-set-splitting-in-sklearn"
      ]
    },
    {
      "cell_type": "code",
      "execution_count": null,
      "metadata": {
        "id": "CYXQi07kpNaM"
      },
      "outputs": [],
      "source": [
        "# your code here"
      ]
    },
    {
      "cell_type": "markdown",
      "metadata": {
        "id": "s-kvaSzBo1L0"
      },
      "source": [
        "## ✭ Task: choose a classifier from scikit learn\n",
        "\n",
        "https://scikit-learn.org/stable/supervised_learning.html\n",
        "\n",
        "### Train classifier based on tutorial that you chose\n",
        "\n",
        "e.g. SVM: \n",
        "* https://scikit-learn.org/stable/modules/svm.html#classification \n",
        "* https://www.datacamp.com/tutorial/svm-classification-scikit-learn-python \n",
        "\n",
        "Steps: \n",
        "* create classifer\n",
        "`clf = svm.SVC(decision_function_shape='ovo')`\n",
        "\n",
        "* fit for training\n",
        "`clf.fit(train_X, train_y)`\n",
        "\n",
        "* predict for getting a \"predicted label\",\n",
        "`val_pred = clf.predict(val_X)`\n",
        "\n",
        "* evaluate for seeing how well the classifier performs; the predicted validation label is compared with the real validation label\n",
        "`metrics.accuracy_score(val_y, val_pred)`\n"
      ]
    },
    {
      "cell_type": "code",
      "execution_count": null,
      "metadata": {
        "id": "HBaFq8rZsHl5"
      },
      "outputs": [],
      "source": [
        "# your code here"
      ]
    },
    {
      "cell_type": "markdown",
      "metadata": {
        "id": "4l7smzPLt1PS"
      },
      "source": [
        "# ✭ Visualisation\n",
        "\n",
        "e.g. ROC (receiver operating characteristics) curve: \n",
        "https://scikit-learn.org/stable/visualizations.html"
      ]
    },
    {
      "cell_type": "code",
      "execution_count": null,
      "metadata": {
        "id": "rcWZkeKpt07A"
      },
      "outputs": [],
      "source": [
        "# your code here"
      ]
    }
  ],
  "metadata": {
    "colab": {
      "provenance": []
    },
    "gpuClass": "standard",
    "kernelspec": {
      "display_name": "Python 3",
      "name": "python3"
    },
    "language_info": {
      "name": "python"
    }
  },
  "nbformat": 4,
  "nbformat_minor": 0
}